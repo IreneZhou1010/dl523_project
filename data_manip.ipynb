{
 "cells": [
  {
   "cell_type": "code",
   "execution_count": 1,
   "metadata": {},
   "outputs": [],
   "source": [
    "import numpy as np\n",
    "import h5py\n",
    "from matplotlib import pyplot as plt\n",
    "from matplotlib import image as mpimg\n",
    "from PIL import Image\n",
    "import torch\n",
    "from skimage.transform import resize"
   ]
  },
  {
   "cell_type": "code",
   "execution_count": 2,
   "metadata": {},
   "outputs": [],
   "source": [
    "# deals with the dumb fucking gene images\n",
    "X_data = []\n",
    "PATH = 'gene_images'\n",
    "for i in range(1,16,1):\n",
    "    file_name = 'Gene' + str(i) + \".tif\"\n",
    "    im = Image.open(PATH + '/' + file_name)\n",
    "    for j in range(25):\n",
    "        im.seek(j)\n",
    "        temp = np.array(im)\n",
    "        temp = resize(temp,(500,500))\n",
    "        X_data.append(temp)\n",
    "X_data = np.array(X_data)\n",
    "print(X_data.shape)\n",
    "#np.save('gene_images',X_data)"
   ]
  },
  {
   "cell_type": "code",
   "execution_count": 10,
   "metadata": {},
   "outputs": [],
   "source": [
    "# deals with the dumb fucking masks \n",
    "# just like in perrrrsona \n",
    "y_data = []\n",
    "PATH = 'mask_images'\n",
    "for i in range(1,16,1):\n",
    "    file_name = 'Gene' + str(i) + \"Object Predictions.h5\"\n",
    "    with h5py.File('Gene1_Object_Predictions.h5', 'r') as f:\n",
    "        for j in range(25):\n",
    "            im = f['exported_data'][j]\n",
    "            temp = np.array(im)\n",
    "            temp = resize(temp,(500,500))\n",
    "            y_data.append(temp)\n",
    "y_data = np.array(y_data)\n",
    "np.save('mask_images',y_data)"
   ]
  },
  {
   "cell_type": "code",
   "execution_count": null,
   "metadata": {},
   "outputs": [],
   "source": [
    "with h5py.File('Gene1_Object_Predictions.h5', 'r') as f:\n",
    "    print(list(f.keys()))\n",
    "    #print(f['exported_data'][1,6,9,0]\n",
    "    stuff = f['exported_data'][1]\n",
    "    print(stuff.shape)\n",
    "    stuff = resize(stuff, (500, 500))\n",
    "    plt.imshow(stuff)\n",
    "    plt.colorbar()\n"
   ]
  },
  {
   "cell_type": "code",
   "execution_count": null,
   "metadata": {},
   "outputs": [],
   "source": [
    "### data visuzalistion satuff\n",
    "\n",
    "# open the file as 'f'\n",
    "print('Labels:')\n",
    "with h5py.File('Gene1_Object_Predictions.h5', 'r') as f:\n",
    "    print(list(f.keys()))\n",
    "    #print(f['exported_data'][1,6,9,0]\n",
    "    stuff = f['exported_data'][1]\n",
    "    print(stuff.shape)\n",
    "    stuff = resize(stuff, (500, 500))\n",
    "    plt.imshow(stuff)\n",
    "    plt.colorbar()\n",
    "\n"
   ]
  },
  {
   "cell_type": "code",
   "execution_count": null,
   "metadata": {},
   "outputs": [],
   "source": [
    "im = Image.open('Gene1.tif')\n",
    "im.seek(13)\n",
    "im = np.array(im)\n",
    "im = resize(im,(500,500))\n",
    "plt.imshow(im)\n",
    "plt.colorbar()"
   ]
  },
  {
   "cell_type": "code",
   "execution_count": 11,
   "metadata": {},
   "outputs": [
    {
     "name": "stdout",
     "output_type": "stream",
     "text": [
      "(375, 500, 500, 1)\n"
     ]
    }
   ],
   "source": [
    "stuff = np.load('mask_images.npy')\n",
    "print(stuff.shape)"
   ]
  },
  {
   "cell_type": "code",
   "execution_count": 12,
   "metadata": {},
   "outputs": [
    {
     "name": "stdout",
     "output_type": "stream",
     "text": [
      "(375, 500, 500)\n"
     ]
    }
   ],
   "source": [
    "moar = np.load('gene_images.npy')\n",
    "print(moar.shape)"
   ]
  }
 ],
 "metadata": {
  "kernelspec": {
   "display_name": "reinforcementlearning",
   "language": "python",
   "name": "python3"
  },
  "language_info": {
   "codemirror_mode": {
    "name": "ipython",
    "version": 3
   },
   "file_extension": ".py",
   "mimetype": "text/x-python",
   "name": "python",
   "nbconvert_exporter": "python",
   "pygments_lexer": "ipython3",
   "version": "3.10.9"
  },
  "orig_nbformat": 4
 },
 "nbformat": 4,
 "nbformat_minor": 2
}
