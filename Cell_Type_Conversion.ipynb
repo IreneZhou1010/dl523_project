{
  "cells": [
    {
      "cell_type": "code",
      "execution_count": 1,
      "metadata": {
        "colab": {
          "base_uri": "https://localhost:8080/",
          "height": 235
        },
        "id": "WYlisYGejUdJ",
        "outputId": "154baf98-fa07-47c2-9d17-6e0172eec63b"
      },
      "outputs": [],
      "source": [
        "import numpy as np\n",
        "import pandas as pd\n",
        "#masks = np.load('mask_images_large.npy')\n",
        "df = pd.read_excel('Celltype_data.xlsx')\n",
        "df.head()\n",
        "def printProgressBar (iteration, total, prefix = '', suffix = '', decimals = 1, length = 100, fill = '█', printEnd = \"\\r\"):\n",
        "    # thanks to Greenstick on StackOverflow for the method \n",
        "   \n",
        "    percent = (\"{0:.\" + str(decimals) + \"f}\").format(100 * (iteration / float(total)))\n",
        "    filledLength = int(length * iteration // total)\n",
        "    bar = fill * filledLength + '-' * (length - filledLength)\n",
        "    print(f'\\r{prefix} |{bar}| {percent}% {suffix}', end = printEnd)\n",
        "    # Print New Line on Complete\n",
        "    if iteration == total: \n",
        "        print()"
      ]
    },
    {
      "cell_type": "code",
      "execution_count": 2,
      "metadata": {
        "colab": {
          "base_uri": "https://localhost:8080/"
        },
        "id": "x1cMilHstIpW",
        "outputId": "51c6b1e0-7a06-4417-df23-ed0213408047"
      },
      "outputs": [
        {
          "name": "stdout",
          "output_type": "stream",
          "text": [
            "['L2/3 IT 1' 'L2/3 IT 2' 'L4/5 IT 1' 'L4/5 IT 2' 'L4/5 IT 3' 'L4/5 IT 4'\n",
            " 'L4/5 IT 5' 'L4/5 IT 6' 'L5 PT 1' 'L5 PT 2' 'L5/6 IT 2' 'L5/6 IT 3'\n",
            " 'L5/6 IT 4' 'L5/6 NP 1' 'L5/6 NP 2' 'L5/6 NP 3' 'L6 CT 2' 'L6 CT 4'\n",
            " 'L6b 1' 'L6b 3' 'Lamp5 1' 'Lamp5 2' 'Lamp5 5' 'Lamp5 6' 'Pvalb 3'\n",
            " 'Pvalb 4' 'Pvalb 5' 'Pvalb 6' 'Pvalb 7' 'Sst 10' 'Sst 11' 'Sst 13'\n",
            " 'Sst 2' 'Sst 5' 'Sst 7' 'Sst 8' 'Sst 9' 'Sst Chodl 2' 'Vip 2' 'Vip 4'\n",
            " 'Vip 5' 'Vip 6' 'Vip 7' 'Vip 8' 'Vip 9' 'ZNo markers']\n",
            "[[1 0 0 ... 0 0 0]\n",
            " [1 0 0 ... 0 0 0]\n",
            " [1 0 0 ... 0 1 0]\n",
            " ...\n",
            " [0 0 0 ... 0 1 0]\n",
            " [0 0 0 ... 0 1 0]\n",
            " [0 0 0 ... 0 0 0]]\n",
            "(12229, 15)\n"
          ]
        }
      ],
      "source": [
        "genes_data = df.iloc[:,[1,2,3,4,5,6,7,8,9,10,11,12,13,14,15]].to_numpy()\n",
        "class_data = df['class']\n",
        "classes = np.unique(class_data)\n",
        "print(classes)\n",
        "print(genes_data)\n",
        "print(genes_data.shape)"
      ]
    },
    {
      "cell_type": "code",
      "execution_count": 3,
      "metadata": {
        "colab": {
          "base_uri": "https://localhost:8080/"
        },
        "id": "hbrHITFySG_N",
        "outputId": "c6142105-9034-4318-9fdc-3d2ac274ad8a"
      },
      "outputs": [
        {
          "name": "stdout",
          "output_type": "stream",
          "text": [
            "(12229, 15)\n",
            "(12229, 12)\n"
          ]
        }
      ],
      "source": [
        "print(genes_data.shape)\n",
        "genes_data_m21014 = df.iloc[:,[1,3,4,5,6,7,8,9,11,12,13,15]].to_numpy()\n",
        "#genes_data_m21014 = np.stack(genes_data[:,0], genes_data[:,2:8], genes_data[:,10:12], genes_data[:,14])\n",
        "print(genes_data_m21014.shape)"
      ]
    },
    {
      "cell_type": "code",
      "execution_count": 4,
      "metadata": {
        "id": "0MNz09eDjrNV"
      },
      "outputs": [],
      "source": [
        "from statistics import mode\n",
        "from joblib import Parallel, delayed\n",
        "\n",
        "def conversion(m_arr):\n",
        "  c,ro,col = m_arr.shape\n",
        "  print(m_arr.shape)\n",
        "  assign = np.zeros((ro,col))\n",
        "  Parallel(n_jobs=2)(delayed(convert_pixel(m_arr,i,j)) for i,j in range(ro),range(col))\n",
        "  #for i in range(ro):\n",
        "  #  for j in range(col):\n",
        "      \n",
        "      \n",
        "      #assign[i,j] = convert_pixel(m_arr,i,j)\n",
        "   #   printProgressBar((i * ro) + j , ro*col)\n",
        "  return assign\n",
        "\n",
        "def convert_pixel(m_arr,i,j):\n",
        "  pos_cell_types = []\n",
        "  for ind,gdat in enumerate(genes_data_m21014):\n",
        "    mask_genes = m_arr[:,i,j]\n",
        "    if((mask_genes == gdat).all()):\n",
        "      pos_cell_types.append(class_data[ind])\n",
        "  if(pos_cell_types != []):\n",
        "    temp = mode(pos_cell_types)\n",
        "    return np.where(classes == mode(pos_cell_types))[0]\n",
        "  else:\n",
        "    return len(classes) - 1\n",
        "\n"
      ]
    },
    {
      "cell_type": "code",
      "execution_count": 5,
      "metadata": {
        "colab": {
          "base_uri": "https://localhost:8080/",
          "height": 346
        },
        "id": "Ut3UnddEVBva",
        "outputId": "f83f698d-a24f-4ada-a799-4200449a2d19"
      },
      "outputs": [
        {
          "name": "stdout",
          "output_type": "stream",
          "text": [
            "(12, 500, 500)\n"
          ]
        },
        {
          "ename": "TypeError",
          "evalue": "cannot unpack non-iterable function object",
          "output_type": "error",
          "traceback": [
            "\u001b[1;31m---------------------------------------------------------------------------\u001b[0m",
            "\u001b[1;31m_RemoteTraceback\u001b[0m                          Traceback (most recent call last)",
            "\u001b[1;31m_RemoteTraceback\u001b[0m: \n\"\"\"\nTraceback (most recent call last):\n  File \"c:\\Users\\qtcc\\.conda\\envs\\reinforcementlearning\\lib\\site-packages\\joblib\\externals\\loky\\process_executor.py\", line 436, in _process_worker\n    r = call_item()\n  File \"c:\\Users\\qtcc\\.conda\\envs\\reinforcementlearning\\lib\\site-packages\\joblib\\externals\\loky\\process_executor.py\", line 288, in __call__\n    return self.fn(*self.args, **self.kwargs)\n  File \"c:\\Users\\qtcc\\.conda\\envs\\reinforcementlearning\\lib\\site-packages\\joblib\\_parallel_backends.py\", line 595, in __call__\n    return self.func(*args, **kwargs)\n  File \"c:\\Users\\qtcc\\.conda\\envs\\reinforcementlearning\\lib\\site-packages\\joblib\\parallel.py\", line 263, in __call__\n    return [func(*args, **kwargs)\n  File \"c:\\Users\\qtcc\\.conda\\envs\\reinforcementlearning\\lib\\site-packages\\joblib\\parallel.py\", line 263, in <listcomp>\n    return [func(*args, **kwargs)\nTypeError: cannot unpack non-iterable function object\n\"\"\"",
            "\nThe above exception was the direct cause of the following exception:\n",
            "\u001b[1;31mTypeError\u001b[0m                                 Traceback (most recent call last)",
            "Cell \u001b[1;32mIn[5], line 2\u001b[0m\n\u001b[0;32m      1\u001b[0m test \u001b[39m=\u001b[39m np\u001b[39m.\u001b[39mrandom\u001b[39m.\u001b[39mrandint(\u001b[39m2\u001b[39m, size\u001b[39m=\u001b[39m(\u001b[39m12\u001b[39m,\u001b[39m500\u001b[39m,\u001b[39m500\u001b[39m))\n\u001b[1;32m----> 2\u001b[0m thing \u001b[39m=\u001b[39m conversion(test)\n",
            "Cell \u001b[1;32mIn[4], line 8\u001b[0m, in \u001b[0;36mconversion\u001b[1;34m(m_arr)\u001b[0m\n\u001b[0;32m      6\u001b[0m \u001b[39mprint\u001b[39m(m_arr\u001b[39m.\u001b[39mshape)\n\u001b[0;32m      7\u001b[0m assign \u001b[39m=\u001b[39m np\u001b[39m.\u001b[39mzeros((ro,col))\n\u001b[1;32m----> 8\u001b[0m Parallel(n_jobs\u001b[39m=\u001b[39;49m\u001b[39m2\u001b[39;49m)(delayed(convert_pixel(m_arr,i,j)) \u001b[39mfor\u001b[39;49;00m i \u001b[39min\u001b[39;49;00m \u001b[39mrange\u001b[39;49m(ro) \u001b[39mfor\u001b[39;49;00m j \u001b[39min\u001b[39;49;00m \u001b[39mrange\u001b[39;49m(col))\n\u001b[0;32m      9\u001b[0m \u001b[39m#for i in range(ro):\u001b[39;00m\n\u001b[0;32m     10\u001b[0m \u001b[39m#  for j in range(col):\u001b[39;00m\n\u001b[0;32m     11\u001b[0m     \n\u001b[0;32m     12\u001b[0m     \n\u001b[0;32m     13\u001b[0m     \u001b[39m#assign[i,j] = convert_pixel(m_arr,i,j)\u001b[39;00m\n\u001b[0;32m     14\u001b[0m  \u001b[39m#   printProgressBar((i * ro) + j , ro*col)\u001b[39;00m\n\u001b[0;32m     15\u001b[0m \u001b[39mreturn\u001b[39;00m assign\n",
            "File \u001b[1;32mc:\\Users\\qtcc\\.conda\\envs\\reinforcementlearning\\lib\\site-packages\\joblib\\parallel.py:1061\u001b[0m, in \u001b[0;36mParallel.__call__\u001b[1;34m(self, iterable)\u001b[0m\n\u001b[0;32m   1058\u001b[0m     \u001b[39mself\u001b[39m\u001b[39m.\u001b[39m_iterating \u001b[39m=\u001b[39m \u001b[39mFalse\u001b[39;00m\n\u001b[0;32m   1060\u001b[0m \u001b[39mwith\u001b[39;00m \u001b[39mself\u001b[39m\u001b[39m.\u001b[39m_backend\u001b[39m.\u001b[39mretrieval_context():\n\u001b[1;32m-> 1061\u001b[0m     \u001b[39mself\u001b[39;49m\u001b[39m.\u001b[39;49mretrieve()\n\u001b[0;32m   1062\u001b[0m \u001b[39m# Make sure that we get a last message telling us we are done\u001b[39;00m\n\u001b[0;32m   1063\u001b[0m elapsed_time \u001b[39m=\u001b[39m time\u001b[39m.\u001b[39mtime() \u001b[39m-\u001b[39m \u001b[39mself\u001b[39m\u001b[39m.\u001b[39m_start_time\n",
            "File \u001b[1;32mc:\\Users\\qtcc\\.conda\\envs\\reinforcementlearning\\lib\\site-packages\\joblib\\parallel.py:938\u001b[0m, in \u001b[0;36mParallel.retrieve\u001b[1;34m(self)\u001b[0m\n\u001b[0;32m    936\u001b[0m \u001b[39mtry\u001b[39;00m:\n\u001b[0;32m    937\u001b[0m     \u001b[39mif\u001b[39;00m \u001b[39mgetattr\u001b[39m(\u001b[39mself\u001b[39m\u001b[39m.\u001b[39m_backend, \u001b[39m'\u001b[39m\u001b[39msupports_timeout\u001b[39m\u001b[39m'\u001b[39m, \u001b[39mFalse\u001b[39;00m):\n\u001b[1;32m--> 938\u001b[0m         \u001b[39mself\u001b[39m\u001b[39m.\u001b[39m_output\u001b[39m.\u001b[39mextend(job\u001b[39m.\u001b[39;49mget(timeout\u001b[39m=\u001b[39;49m\u001b[39mself\u001b[39;49m\u001b[39m.\u001b[39;49mtimeout))\n\u001b[0;32m    939\u001b[0m     \u001b[39melse\u001b[39;00m:\n\u001b[0;32m    940\u001b[0m         \u001b[39mself\u001b[39m\u001b[39m.\u001b[39m_output\u001b[39m.\u001b[39mextend(job\u001b[39m.\u001b[39mget())\n",
            "File \u001b[1;32mc:\\Users\\qtcc\\.conda\\envs\\reinforcementlearning\\lib\\site-packages\\joblib\\_parallel_backends.py:542\u001b[0m, in \u001b[0;36mLokyBackend.wrap_future_result\u001b[1;34m(future, timeout)\u001b[0m\n\u001b[0;32m    539\u001b[0m \u001b[39m\u001b[39m\u001b[39m\"\"\"Wrapper for Future.result to implement the same behaviour as\u001b[39;00m\n\u001b[0;32m    540\u001b[0m \u001b[39mAsyncResults.get from multiprocessing.\"\"\"\u001b[39;00m\n\u001b[0;32m    541\u001b[0m \u001b[39mtry\u001b[39;00m:\n\u001b[1;32m--> 542\u001b[0m     \u001b[39mreturn\u001b[39;00m future\u001b[39m.\u001b[39;49mresult(timeout\u001b[39m=\u001b[39;49mtimeout)\n\u001b[0;32m    543\u001b[0m \u001b[39mexcept\u001b[39;00m CfTimeoutError \u001b[39mas\u001b[39;00m e:\n\u001b[0;32m    544\u001b[0m     \u001b[39mraise\u001b[39;00m \u001b[39mTimeoutError\u001b[39;00m \u001b[39mfrom\u001b[39;00m \u001b[39me\u001b[39;00m\n",
            "File \u001b[1;32mc:\\Users\\qtcc\\.conda\\envs\\reinforcementlearning\\lib\\concurrent\\futures\\_base.py:458\u001b[0m, in \u001b[0;36mFuture.result\u001b[1;34m(self, timeout)\u001b[0m\n\u001b[0;32m    456\u001b[0m     \u001b[39mraise\u001b[39;00m CancelledError()\n\u001b[0;32m    457\u001b[0m \u001b[39melif\u001b[39;00m \u001b[39mself\u001b[39m\u001b[39m.\u001b[39m_state \u001b[39m==\u001b[39m FINISHED:\n\u001b[1;32m--> 458\u001b[0m     \u001b[39mreturn\u001b[39;00m \u001b[39mself\u001b[39;49m\u001b[39m.\u001b[39;49m__get_result()\n\u001b[0;32m    459\u001b[0m \u001b[39melse\u001b[39;00m:\n\u001b[0;32m    460\u001b[0m     \u001b[39mraise\u001b[39;00m \u001b[39mTimeoutError\u001b[39;00m()\n",
            "File \u001b[1;32mc:\\Users\\qtcc\\.conda\\envs\\reinforcementlearning\\lib\\concurrent\\futures\\_base.py:403\u001b[0m, in \u001b[0;36mFuture.__get_result\u001b[1;34m(self)\u001b[0m\n\u001b[0;32m    401\u001b[0m \u001b[39mif\u001b[39;00m \u001b[39mself\u001b[39m\u001b[39m.\u001b[39m_exception:\n\u001b[0;32m    402\u001b[0m     \u001b[39mtry\u001b[39;00m:\n\u001b[1;32m--> 403\u001b[0m         \u001b[39mraise\u001b[39;00m \u001b[39mself\u001b[39m\u001b[39m.\u001b[39m_exception\n\u001b[0;32m    404\u001b[0m     \u001b[39mfinally\u001b[39;00m:\n\u001b[0;32m    405\u001b[0m         \u001b[39m# Break a reference cycle with the exception in self._exception\u001b[39;00m\n\u001b[0;32m    406\u001b[0m         \u001b[39mself\u001b[39m \u001b[39m=\u001b[39m \u001b[39mNone\u001b[39;00m\n",
            "\u001b[1;31mTypeError\u001b[0m: cannot unpack non-iterable function object"
          ]
        }
      ],
      "source": [
        "test = np.random.randint(2, size=(12,500,500))\n",
        "thing = conversion(test)"
      ]
    }
  ],
  "metadata": {
    "colab": {
      "provenance": []
    },
    "gpuClass": "standard",
    "kernelspec": {
      "display_name": "Python 3",
      "name": "python3"
    },
    "language_info": {
      "codemirror_mode": {
        "name": "ipython",
        "version": 3
      },
      "file_extension": ".py",
      "mimetype": "text/x-python",
      "name": "python",
      "nbconvert_exporter": "python",
      "pygments_lexer": "ipython3",
      "version": "3.10.9"
    }
  },
  "nbformat": 4,
  "nbformat_minor": 0
}
